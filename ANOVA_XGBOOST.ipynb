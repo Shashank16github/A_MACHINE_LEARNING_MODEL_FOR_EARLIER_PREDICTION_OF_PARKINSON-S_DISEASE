{
 "cells": [
  {
   "cell_type": "markdown",
   "id": "9c119fd8",
   "metadata": {},
   "source": [
    "## XG BOOST"
   ]
  },
  {
   "cell_type": "markdown",
   "id": "17f849e0",
   "metadata": {},
   "source": [
    "### Importing All Libraries"
   ]
  },
  {
   "cell_type": "code",
   "execution_count": 3,
   "id": "9e5ebece",
   "metadata": {},
   "outputs": [],
   "source": [
    "import numpy as np\n",
    "import pandas as pd\n",
    "from sklearn.feature_selection import SelectKBest, f_classif\n",
    "from sklearn.preprocessing import MinMaxScaler\n",
    "from sklearn.model_selection import StratifiedKFold\n",
    "from imblearn.over_sampling import SMOTE\n",
    "from xgboost import XGBClassifier\n",
    "from sklearn.metrics import accuracy_score, precision_score, recall_score, f1_score\n",
    "from sklearn.metrics import ConfusionMatrixDisplay"
   ]
  },
  {
   "cell_type": "markdown",
   "id": "50d15566",
   "metadata": {},
   "source": [
    "### Loading The Dataset"
   ]
  },
  {
   "cell_type": "code",
   "execution_count": 4,
   "id": "f30614e7",
   "metadata": {},
   "outputs": [],
   "source": [
    "# Load your dataset (replace \"pd_speech_features.csv\" with your actual file)\n",
    "data = pd.read_csv(\"pd_speech_features.csv\")\n",
    "X = data.drop(columns=['class', 'id'])\n",
    "y = data['class']"
   ]
  },
  {
   "cell_type": "markdown",
   "id": "34591e7e",
   "metadata": {},
   "source": [
    "### Applying Scaling"
   ]
  },
  {
   "cell_type": "code",
   "execution_count": 5,
   "id": "a24d6687",
   "metadata": {},
   "outputs": [],
   "source": [
    "# Scale the input data to the range [0, 1]\n",
    "scaler = MinMaxScaler()\n",
    "X_scaled = scaler.fit_transform(X)"
   ]
  },
  {
   "cell_type": "markdown",
   "id": "898ed28a",
   "metadata": {},
   "source": [
    "### Applying Feature Selection"
   ]
  },
  {
   "cell_type": "code",
   "execution_count": 6,
   "id": "139f3083",
   "metadata": {},
   "outputs": [],
   "source": [
    "# Feature selection using ANOVA F-value\n",
    "k = 300\n",
    "anova_selector = SelectKBest(f_classif, k=k)\n",
    "X_selected = anova_selector.fit_transform(X_scaled, y)"
   ]
  },
  {
   "cell_type": "markdown",
   "id": "1d1bbd1d",
   "metadata": {},
   "source": [
    "### Initialising Xgboost Classifier"
   ]
  },
  {
   "cell_type": "code",
   "execution_count": 7,
   "id": "7e590c38",
   "metadata": {},
   "outputs": [],
   "source": [
    "# Set up k-fold cross-validation\n",
    "kf = StratifiedKFold(n_splits=5, shuffle=True, random_state=42)\n",
    "\n",
    "# Initialize the classifier (XGBoost as an example)\n",
    "clf = XGBClassifier( learning_rate=0.1,\n",
    "    n_estimators= 100,\n",
    "    max_depth= 5,\n",
    "    min_child_weight= 1,\n",
    "    subsample=0.8,\n",
    "    colsample_bytree=0.8,\n",
    "    gamma= 0,\n",
    "    reg_lambda= 1,\n",
    "    reg_alpha=0,\n",
    "    objective='binary:logistic',  # for binary classification\n",
    "    eval_metric= 'logloss',       # or 'auc' for example\n",
    "    seed= 42 )           # Number of parallel threads\n"
   ]
  },
  {
   "cell_type": "markdown",
   "id": "4615417a",
   "metadata": {},
   "source": [
    "### Applying K-Flod Cross_Validation"
   ]
  },
  {
   "cell_type": "code",
   "execution_count": 8,
   "id": "681efcc3",
   "metadata": {},
   "outputs": [
    {
     "name": "stdout",
     "output_type": "stream",
     "text": [
      "Average Accuracy: 0.904766469153015\n",
      "Average Precision: 0.9333715194025336\n",
      "Average Recall: 0.9396333754740835\n",
      "Average F1 Score: 0.9362396795443994\n",
      "<sklearn.metrics._plot.confusion_matrix.ConfusionMatrixDisplay object at 0x000001AEAA9BEFB0>\n"
     ]
    },
    {
     "data": {
      "image/png": "[encoded data removed]",
      "text/plain": [
       "<Figure size 640x480 with 2 Axes>"
      ]
     },
     "metadata": {},
     "output_type": "display_data"
    }
   ],
   "source": [
    "# Perform k-fold cross-validation\n",
    "accuracies = []\n",
    "precisions, recalls, f1_scores = [], [], [] \n",
    "for train_index, test_index in kf.split(X_selected, y):\n",
    "    X_train, X_test = X_selected[train_index], X_selected[test_index]\n",
    "    y_train, y_test = y[train_index], y[test_index]\n",
    "\n",
    "    # Apply SMOTE only to the training data\n",
    "    smote = SMOTE(random_state=42)\n",
    "    X_train_resampled, y_train_resampled = smote.fit_resample(X_train, y_train)\n",
    "\n",
    "    # Train the classifier\n",
    "    clf.fit(X_train_resampled, y_train_resampled)\n",
    "\n",
    "    # Make predictions\n",
    "    y_preds = clf.predict(X_test)\n",
    "\n",
    "    # Evaluate accuracy\n",
    "    accuracy = accuracy_score(y_test, y_preds)    \n",
    "    precision = precision_score(y_test, y_preds)\n",
    "    recall = recall_score(y_test, y_preds)\n",
    "    f1 = f1_score(y_test, y_preds)\n",
    "\n",
    "    # Store metrics\n",
    "    accuracies.append(accuracy)\n",
    "    precisions.append(precision)\n",
    "    recalls.append(recall)\n",
    "    f1_scores.append(f1)\n",
    "\n",
    "# Print average accuracy across folds\n",
    "average_accuracy = np.mean(accuracies)\n",
    "average_precision = np.mean(precisions)\n",
    "average_recall = np.mean(recalls)\n",
    "average_f1 = np.mean(f1_scores)\n",
    "\n",
    "print(\"Average Accuracy:\", average_accuracy)\n",
    "print(\"Average Precision:\", average_precision)\n",
    "print(\"Average Recall:\", average_recall)\n",
    "print(\"Average F1 Score:\", average_f1)\n",
    "print(ConfusionMatrixDisplay.from_predictions(y_true = y_test, y_pred = y_preds))"
   ]
  },
  {
   "cell_type": "code",
   "execution_count": null,
   "id": "86f5f0e0",
   "metadata": {},
   "outputs": [],
   "source": []
  },
  {
   "cell_type": "code",
   "execution_count": null,
   "id": "f4ab836f",
   "metadata": {},
   "outputs": [],
   "source": []
  }
 ],
 "metadata": {
  "kernelspec": {
   "display_name": "Python 3 (ipykernel)",
   "language": "python",
   "name": "python3"
  },
  "language_info": {
   "codemirror_mode": {
    "name": "ipython",
    "version": 3
   },
   "file_extension": ".py",
   "mimetype": "text/x-python",
   "name": "python",
   "nbconvert_exporter": "python",
   "pygments_lexer": "ipython3",
   "version": "3.10.4"
  }
 },
 "nbformat": 4,
 "nbformat_minor": 5
}
