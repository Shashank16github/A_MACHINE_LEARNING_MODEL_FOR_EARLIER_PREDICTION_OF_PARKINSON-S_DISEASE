{
 "cells": [
  {
   "cell_type": "markdown",
   "id": "d0c14353",
   "metadata": {},
   "source": [
    "##  CATBOOST"
   ]
  },
  {
   "cell_type": "markdown",
   "id": "af684124",
   "metadata": {},
   "source": [
    "### Importing All Libraries"
   ]
  },
  {
   "cell_type": "code",
   "execution_count": 7,
   "id": "53beb9fe",
   "metadata": {},
   "outputs": [],
   "source": [
    "import numpy as np\n",
    "import pandas as pd\n",
    "from sklearn.feature_selection import SelectKBest, f_classif\n",
    "from sklearn.preprocessing import MinMaxScaler\n",
    "from sklearn.model_selection import StratifiedKFold\n",
    "from imblearn.over_sampling import SMOTE\n",
    "from catboost import CatBoostClassifier\n",
    "from sklearn.metrics import accuracy_score, precision_score, recall_score, f1_score\n",
    "from sklearn.metrics import ConfusionMatrixDisplay"
   ]
  },
  {
   "cell_type": "markdown",
   "id": "9dd308a8",
   "metadata": {},
   "source": [
    "### Loading The Dataset"
   ]
  },
  {
   "cell_type": "code",
   "execution_count": 8,
   "id": "b696abe4",
   "metadata": {},
   "outputs": [],
   "source": [
    "# Load your dataset (replace \"pd_speech_features.csv\" with your actual file)\n",
    "data = pd.read_csv(\"pd_speech_features.csv\")\n",
    "X = data.drop(columns=['class', 'id'])\n",
    "y = data['class']"
   ]
  },
  {
   "cell_type": "markdown",
   "id": "47665ac6",
   "metadata": {},
   "source": [
    "### Applying Scaling"
   ]
  },
  {
   "cell_type": "code",
   "execution_count": 9,
   "id": "93b2f48d",
   "metadata": {},
   "outputs": [],
   "source": [
    "# Scale the input data to the range [0, 1]\n",
    "scaler = MinMaxScaler()\n",
    "X_scaled = scaler.fit_transform(X)"
   ]
  },
  {
   "cell_type": "markdown",
   "id": "b84a0db7",
   "metadata": {},
   "source": [
    "### Applying Feature selection"
   ]
  },
  {
   "cell_type": "code",
   "execution_count": 10,
   "id": "ce4e8869",
   "metadata": {},
   "outputs": [],
   "source": [
    "# Feature selection using ANOVA F-value\n",
    "k = 300\n",
    "anova_selector = SelectKBest(f_classif, k=k)\n",
    "X_selected = anova_selector.fit_transform(X_scaled, y)"
   ]
  },
  {
   "cell_type": "markdown",
   "id": "19fb7782",
   "metadata": {},
   "source": [
    "### Initialising Catboost Classifier"
   ]
  },
  {
   "cell_type": "code",
   "execution_count": 11,
   "id": "5f963ee8",
   "metadata": {},
   "outputs": [],
   "source": [
    "# Set up k-fold cross-validation\n",
    "kf = StratifiedKFold(n_splits=5, shuffle=True, random_state=42)\n",
    "\n",
    "# Initialize the classifier (CatBoost as an example)\n",
    "clf = CatBoostClassifier(iterations=1000,\n",
    "    learning_rate=0.05,depth=6,l2_leaf_reg=1,random_strength=1,border_count=128,bagging_temperature=1,od_type='Iter',od_wait=20,\n",
    "    eval_metric='Logloss',scale_pos_weight=1.0,one_hot_max_size=255,verbose=False)\n"
   ]
  },
  {
   "cell_type": "markdown",
   "id": "30421200",
   "metadata": {},
   "source": [
    "### Applying K-Fold Cross Validation"
   ]
  },
  {
   "cell_type": "code",
   "execution_count": 12,
   "id": "d47be562",
   "metadata": {},
   "outputs": [
    {
     "name": "stdout",
     "output_type": "stream",
     "text": [
      "Average Accuracy: 0.9325548971767166\n",
      "Average Precision: 0.9417691630671324\n",
      "Average Recall: 0.9697850821744627\n",
      "Average F1 Score: 0.9553640319661559\n",
      "<sklearn.metrics._plot.confusion_matrix.ConfusionMatrixDisplay object at 0x0000020B45694220>\n"
     ]
    },
    {
     "data": {
      "image/png": "[encoded data removed]",
      "text/plain": [
       "<Figure size 640x480 with 2 Axes>"
      ]
     },
     "metadata": {},
     "output_type": "display_data"
    }
   ],
   "source": [
    "# Perform k-fold cross-validation\n",
    "accuracies = []\n",
    "precisions, recalls, f1_scores = [], [], [] \n",
    "\n",
    "for train_index, test_index in kf.split(X_selected, y):\n",
    "    X_train, X_test = X_selected[train_index], X_selected[test_index]\n",
    "    y_train, y_test = y[train_index], y[test_index]\n",
    "\n",
    "    # Apply SMOTE only to the training data\n",
    "    smote = SMOTE( sampling_strategy='auto',  # 'auto' or a float specifying the target ratio\n",
    "    random_state=42,\n",
    "    k_neighbors=5)\n",
    "    X_train_resampled, y_train_resampled = smote.fit_resample(X_train, y_train)\n",
    "\n",
    "    # Train the classifier\n",
    "    clf.fit(X_train_resampled, y_train_resampled)\n",
    "\n",
    "    # Make predictions\n",
    "    y_preds = clf.predict(X_test)\n",
    "    \n",
    "\n",
    "    # Evaluate accuracy\n",
    "    accuracy = accuracy_score(y_test, y_preds)\n",
    "    precision = precision_score(y_test, y_preds)\n",
    "    recall = recall_score(y_test, y_preds)\n",
    "    f1 = f1_score(y_test, y_preds)\n",
    "\n",
    "    # Store metrics\n",
    "    accuracies.append(accuracy)\n",
    "    precisions.append(precision)\n",
    "    recalls.append(recall)\n",
    "    f1_scores.append(f1)\n",
    "\n",
    "# Print average accuracy across folds\n",
    "average_accuracy = np.mean(accuracies)\n",
    "\n",
    "average_precision = np.mean(precisions)\n",
    "average_recall = np.mean(recalls)\n",
    "average_f1 = np.mean(f1_scores)\n",
    "\n",
    "print(\"Average Accuracy:\", average_accuracy)\n",
    "print(\"Average Precision:\", average_precision)\n",
    "print(\"Average Recall:\", average_recall)\n",
    "print(\"Average F1 Score:\", average_f1)\n",
    "print(ConfusionMatrixDisplay.from_predictions(y_true = y_test, \n",
    "                                        y_pred = y_preds))"
   ]
  },
  {
   "cell_type": "code",
   "execution_count": null,
   "id": "1f93c1cb",
   "metadata": {},
   "outputs": [],
   "source": []
  },
  {
   "cell_type": "code",
   "execution_count": null,
   "id": "6d2060fd",
   "metadata": {},
   "outputs": [],
   "source": []
  }
 ],
 "metadata": {
  "kernelspec": {
   "display_name": "Python 3 (ipykernel)",
   "language": "python",
   "name": "python3"
  },
  "language_info": {
   "codemirror_mode": {
    "name": "ipython",
    "version": 3
   },
   "file_extension": ".py",
   "mimetype": "text/x-python",
   "name": "python",
   "nbconvert_exporter": "python",
   "pygments_lexer": "ipython3",
   "version": "3.10.4"
  }
 },
 "nbformat": 4,
 "nbformat_minor": 5
}
