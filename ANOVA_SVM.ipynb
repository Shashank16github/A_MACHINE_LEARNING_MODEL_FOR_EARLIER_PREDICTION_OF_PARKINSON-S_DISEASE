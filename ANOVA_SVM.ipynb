{
 "cells": [
  {
   "cell_type": "markdown",
   "id": "5cab9081",
   "metadata": {},
   "source": [
    "## SVM"
   ]
  },
  {
   "cell_type": "markdown",
   "id": "56485db0",
   "metadata": {},
   "source": [
    "### Importing All Libraries"
   ]
  },
  {
   "cell_type": "code",
   "execution_count": 2,
   "id": "f5f8be89",
   "metadata": {},
   "outputs": [],
   "source": [
    "import numpy as np\n",
    "import pandas as pd\n",
    "from sklearn.feature_selection import SelectKBest, f_classif\n",
    "from sklearn.preprocessing import MinMaxScaler\n",
    "from sklearn.model_selection import StratifiedKFold\n",
    "from imblearn.over_sampling import SMOTE\n",
    "from sklearn.svm import SVC\n",
    "from sklearn.metrics import accuracy_score, precision_score, recall_score, f1_score\n",
    "from sklearn.metrics import ConfusionMatrixDisplay"
   ]
  },
  {
   "cell_type": "markdown",
   "id": "e6ae188a",
   "metadata": {},
   "source": [
    "### Loading The Dataset"
   ]
  },
  {
   "cell_type": "code",
   "execution_count": 3,
   "id": "50016796",
   "metadata": {},
   "outputs": [],
   "source": [
    "# Load your dataset (replace \"pd_speech_features.csv\" with your actual file)\n",
    "data = pd.read_csv(\"pd_speech_features.csv\")\n",
    "X = data.drop(columns=['class', 'id'])\n",
    "y = data['class']"
   ]
  },
  {
   "cell_type": "markdown",
   "id": "3553c4a6",
   "metadata": {},
   "source": [
    "### Applying Scaling"
   ]
  },
  {
   "cell_type": "code",
   "execution_count": 4,
   "id": "1bb08612",
   "metadata": {},
   "outputs": [],
   "source": [
    "# Scale the input data to the range [0, 1]\n",
    "scaler = MinMaxScaler()\n",
    "X_scaled = scaler.fit_transform(X)"
   ]
  },
  {
   "cell_type": "markdown",
   "id": "97047c10",
   "metadata": {},
   "source": [
    "### Applying Feature SElection"
   ]
  },
  {
   "cell_type": "code",
   "execution_count": 5,
   "id": "534c3bfd",
   "metadata": {},
   "outputs": [],
   "source": [
    "# Feature selection using ANOVA F-value\n",
    "k = 300\n",
    "anova_selector = SelectKBest(f_classif, k=k)\n",
    "X_selected = anova_selector.fit_transform(X_scaled, y)\n"
   ]
  },
  {
   "cell_type": "markdown",
   "id": "7ab4a9de",
   "metadata": {},
   "source": [
    "### Initialising SVM Classifier"
   ]
  },
  {
   "cell_type": "code",
   "execution_count": 6,
   "id": "aa504d16",
   "metadata": {},
   "outputs": [],
   "source": [
    "\n",
    "# Set up k-fold cross-validation\n",
    "kf = StratifiedKFold(n_splits=5, shuffle=True, random_state=42)\n",
    "\n",
    "# Initialize the classifier (SVM as an example)\n",
    "clf = SVC( C=1.0,           # Regularization parameter. Controls the trade-off between maximizing the margin and minimizing the classification error.\n",
    "    kernel='poly',    # Kernel function: 'linear', 'poly', 'rbf' (Gaussian), 'sigmoid', etc.\n",
    "    gamma='scale',   # Kernel coefficient for 'rbf', 'poly' and 'sigmoid'. 'scale' uses 1 / (n_features * X.var()) as the default value.\n",
    "    degree=3,        # Degree of the polynomial kernel function ('poly'). Ignored by other kernels.\n",
    "    coef0=0.0,       # Independent term in kernel function. Used in 'poly' and 'sigmoid'.\n",
    "    shrinking=True,  # Whether to use the shrinking heuristic. Can speed up training for large datasets.\n",
    "    probability=False,  # Whether to enable probability estimates. Use for probability calibration.\n",
    "    tol=1e-3,        # Tolerance for stopping criterion.\n",
    "    class_weight=None,  # Weights associated with classes. Useful for unbalanced datasets.\n",
    "    random_state=None,  # Seed for random number generator.\n",
    "    verbose=False ) # Seed for random number generator\n"
   ]
  },
  {
   "cell_type": "markdown",
   "id": "933d82ab",
   "metadata": {},
   "source": [
    "### Applying K-Fold Cross Validation"
   ]
  },
  {
   "cell_type": "code",
   "execution_count": 7,
   "id": "2926e3ac",
   "metadata": {},
   "outputs": [
    {
     "name": "stdout",
     "output_type": "stream",
     "text": [
      "Average Accuracy: 0.8664255838271175\n",
      "Average Precision: 0.9521397739300786\n",
      "Average Recall: 0.8652812895069533\n",
      "Average F1 Score: 0.9060183500616354\n",
      "<sklearn.metrics._plot.confusion_matrix.ConfusionMatrixDisplay object at 0x0000021C5A35BDF0>\n"
     ]
    },
    {
     "data": {
      "image/png": "[encoded data removed]",
      "text/plain": [
       "<Figure size 640x480 with 2 Axes>"
      ]
     },
     "metadata": {},
     "output_type": "display_data"
    }
   ],
   "source": [
    "\n",
    "# Perform k-fold cross-validation\n",
    "accuracies = []\n",
    "precisions, recalls, f1_scores = [], [], [] \n",
    "for train_index, test_index in kf.split(X_selected, y):\n",
    "    X_train, X_test = X_selected[train_index], X_selected[test_index]\n",
    "    y_train, y_test = y[train_index], y[test_index]\n",
    "\n",
    "    # Apply SMOTE only to the training data\n",
    "    smote = SMOTE(random_state=42)\n",
    "    X_train_resampled, y_train_resampled = smote.fit_resample(X_train, y_train)\n",
    "\n",
    "    # Train the classifier\n",
    "    clf.fit(X_train_resampled, y_train_resampled)\n",
    "\n",
    "    # Make predictions\n",
    "    y_preds = clf.predict(X_test)\n",
    "\n",
    "    # Evaluate accuracy\n",
    "    accuracy = accuracy_score(y_test, y_preds)\n",
    "    precision = precision_score(y_test, y_preds)\n",
    "    recall = recall_score(y_test, y_preds)\n",
    "    f1 = f1_score(y_test, y_preds)\n",
    "\n",
    "    # Store metrics\n",
    "    accuracies.append(accuracy)\n",
    "    precisions.append(precision)\n",
    "    recalls.append(recall)\n",
    "    f1_scores.append(f1)\n",
    "\n",
    "# Print average accuracy across folds\n",
    "average_accuracy = np.mean(accuracies)\n",
    "average_precision = np.mean(precisions)\n",
    "average_recall = np.mean(recalls)\n",
    "average_f1 = np.mean(f1_scores)\n",
    "\n",
    "print(\"Average Accuracy:\", average_accuracy)\n",
    "print(\"Average Precision:\", average_precision)\n",
    "print(\"Average Recall:\", average_recall)\n",
    "print(\"Average F1 Score:\", average_f1)\n",
    "print(ConfusionMatrixDisplay.from_predictions(y_true = y_test, y_pred = y_preds))\n",
    "    \n"
   ]
  },
  {
   "cell_type": "code",
   "execution_count": null,
   "id": "6eef15f9",
   "metadata": {},
   "outputs": [],
   "source": []
  }
 ],
 "metadata": {
  "kernelspec": {
   "display_name": "Python 3 (ipykernel)",
   "language": "python",
   "name": "python3"
  },
  "language_info": {
   "codemirror_mode": {
    "name": "ipython",
    "version": 3
   },
   "file_extension": ".py",
   "mimetype": "text/x-python",
   "name": "python",
   "nbconvert_exporter": "python",
   "pygments_lexer": "ipython3",
   "version": "3.10.4"
  }
 },
 "nbformat": 4,
 "nbformat_minor": 5
}
