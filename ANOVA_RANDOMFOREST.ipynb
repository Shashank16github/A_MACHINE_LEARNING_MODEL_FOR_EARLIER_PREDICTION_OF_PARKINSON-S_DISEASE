{
 "cells": [
  {
   "cell_type": "markdown",
   "id": "8b29c156",
   "metadata": {},
   "source": [
    "## RAMDOM FOREST"
   ]
  },
  {
   "cell_type": "markdown",
   "id": "c913d305",
   "metadata": {},
   "source": [
    "### Importing All Libraries"
   ]
  },
  {
   "cell_type": "code",
   "execution_count": 6,
   "id": "c71a9895",
   "metadata": {},
   "outputs": [],
   "source": [
    "import numpy as np\n",
    "import pandas as pd\n",
    "from sklearn.feature_selection import SelectKBest, f_classif\n",
    "from sklearn.preprocessing import MinMaxScaler\n",
    "from sklearn.model_selection import StratifiedKFold\n",
    "from imblearn.over_sampling import SMOTE\n",
    "from sklearn.ensemble import RandomForestClassifier\n",
    "from sklearn.metrics import accuracy_score\n",
    "from sklearn.metrics import accuracy_score, precision_score, recall_score, f1_score\n",
    "from sklearn.metrics import ConfusionMatrixDisplay"
   ]
  },
  {
   "cell_type": "markdown",
   "id": "bd25ef4f",
   "metadata": {},
   "source": [
    "### Loading The Dataset"
   ]
  },
  {
   "cell_type": "code",
   "execution_count": 7,
   "id": "37336128",
   "metadata": {},
   "outputs": [],
   "source": [
    "# Load your dataset (replace \"pd_speech_features.csv\" with your actual file)\n",
    "data = pd.read_csv(\"pd_speech_features.csv\")\n",
    "X = data.drop(columns=['class', 'id'])\n",
    "y = data['class']"
   ]
  },
  {
   "cell_type": "markdown",
   "id": "e0763a29",
   "metadata": {},
   "source": [
    "### Applying Scaling"
   ]
  },
  {
   "cell_type": "code",
   "execution_count": 8,
   "id": "d63f923a",
   "metadata": {},
   "outputs": [],
   "source": [
    "# Scale the input data to the range [0, 1]\n",
    "scaler = MinMaxScaler()\n",
    "X_scaled = scaler.fit_transform(X)"
   ]
  },
  {
   "cell_type": "markdown",
   "id": "82d05574",
   "metadata": {},
   "source": [
    "### Applying Feature Selection"
   ]
  },
  {
   "cell_type": "code",
   "execution_count": 9,
   "id": "9f0e223d",
   "metadata": {},
   "outputs": [],
   "source": [
    "# Feature selection using ANOVA F-value\n",
    "k = 300\n",
    "anova_selector = SelectKBest(f_classif, k=k)\n",
    "X_selected = anova_selector.fit_transform(X_scaled, y)"
   ]
  },
  {
   "cell_type": "markdown",
   "id": "c1a09edb",
   "metadata": {},
   "source": [
    "### Initialising RandomForest Classifier"
   ]
  },
  {
   "cell_type": "code",
   "execution_count": 10,
   "id": "4a0af6b8",
   "metadata": {},
   "outputs": [],
   "source": [
    "\n",
    "# Set up k-fold cross-validation\n",
    "kf = StratifiedKFold(n_splits=5, shuffle=True, random_state=42)\n",
    "\n",
    "# Initialize the classifier (Random Forest in this example)\n",
    "clf = RandomForestClassifier( n_estimators=100,  # Number of trees in the forest\n",
    "    criterion='gini',  # Split quality criterion ('gini' or 'entropy')\n",
    "    max_depth=None,    # Maximum depth of the tree\n",
    "    min_samples_split=2,  # Minimum samples required to split an internal node\n",
    "    min_samples_leaf=1,   # Minimum samples required to be at a leaf node\n",
    "    max_features='sqrt',  # Number of features to consider when looking for the best split\n",
    "    bootstrap=True,       # Whether to bootstrap samples when building trees\n",
    "    random_state=42,      # Seed for random number generator\n",
    "    n_jobs=-1 )"
   ]
  },
  {
   "cell_type": "markdown",
   "id": "526e71ac",
   "metadata": {},
   "source": [
    "### Applying K-Fold Cross-Validation"
   ]
  },
  {
   "cell_type": "code",
   "execution_count": 12,
   "id": "8f3653df",
   "metadata": {},
   "outputs": [
    {
     "name": "stdout",
     "output_type": "stream",
     "text": [
      "Average Accuracy: 0.9086964098989195\n",
      "Average Precision: 0.9333646554107865\n",
      "Average Recall: 0.9450063211125158\n",
      "Average F1 Score: 0.9391020653209988\n",
      "<sklearn.metrics._plot.confusion_matrix.ConfusionMatrixDisplay object at 0x0000023D74FEAA10>\n"
     ]
    },
    {
     "data": {
      "image/png": "[encoded data removed]",
      "text/plain": [
       "<Figure size 640x480 with 2 Axes>"
      ]
     },
     "metadata": {},
     "output_type": "display_data"
    }
   ],
   "source": [
    "\n",
    "# Perform k-fold cross-validation\n",
    "accuracies = []\n",
    "precisions, recalls, f1_scores = [], [], [] \n",
    "for train_index, test_index in kf.split(X_selected, y):\n",
    "    X_train, X_test = X_selected[train_index], X_selected[test_index]\n",
    "    y_train, y_test = y[train_index], y[test_index]\n",
    "\n",
    "    # Apply SMOTE only to the training data\n",
    "    smote = SMOTE(random_state=42)\n",
    "    X_train_resampled, y_train_resampled = smote.fit_resample(X_train, y_train)\n",
    "\n",
    "    # Train the classifier\n",
    "    clf.fit(X_train_resampled, y_train_resampled)\n",
    "\n",
    "    # Make predictions\n",
    "    y_preds = clf.predict(X_test)\n",
    "\n",
    "    # Evaluate accuracy\n",
    "    accuracy = accuracy_score( y_test, y_preds)    \n",
    "    precision = precision_score(y_test, y_preds)\n",
    "    recall = recall_score(y_test, y_preds)\n",
    "    f1 = f1_score(y_test, y_preds)\n",
    "\n",
    "    # Store metrics\n",
    "    accuracies.append(accuracy)\n",
    "    precisions.append(precision)\n",
    "    recalls.append(recall)\n",
    "    f1_scores.append(f1)\n",
    "\n",
    "# Print average accuracy across folds\n",
    "average_accuracy = np.mean(accuracies)\n",
    "average_precision = np.mean(precisions)\n",
    "average_recall = np.mean(recalls)\n",
    "average_f1 = np.mean(f1_scores)\n",
    "\n",
    "print(\"Average Accuracy:\", average_accuracy)\n",
    "print(\"Average Precision:\", average_precision)\n",
    "print(\"Average Recall:\", average_recall)\n",
    "print(\"Average F1 Score:\", average_f1)\n",
    "print(ConfusionMatrixDisplay.from_predictions(y_true = y_test, y_pred = y_preds))"
   ]
  },
  {
   "cell_type": "code",
   "execution_count": null,
   "id": "8a2cd4dc",
   "metadata": {},
   "outputs": [],
   "source": []
  }
 ],
 "metadata": {
  "kernelspec": {
   "display_name": "Python 3 (ipykernel)",
   "language": "python",
   "name": "python3"
  },
  "language_info": {
   "codemirror_mode": {
    "name": "ipython",
    "version": 3
   },
   "file_extension": ".py",
   "mimetype": "text/x-python",
   "name": "python",
   "nbconvert_exporter": "python",
   "pygments_lexer": "ipython3",
   "version": "3.10.4"
  }
 },
 "nbformat": 4,
 "nbformat_minor": 5
}
